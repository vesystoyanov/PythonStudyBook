{
 "cells": [
  {
   "cell_type": "markdown",
   "id": "10482286",
   "metadata": {},
   "source": [
    "# Работа с файлове\n",
    "\n",
    "Създайте програма, която записва списък с любими книги във файл."
   ]
  },
  {
   "cell_type": "code",
   "execution_count": null,
   "id": "51fc6e19",
   "metadata": {},
   "outputs": [],
   "source": [
    "with open('example.txt', 'w') as file:\n",
    "    file.write('Това е примерен текст.')"
   ]
  },
  {
   "cell_type": "markdown",
   "id": "15082ad5",
   "metadata": {},
   "source": [
    "## Задача\n",
    "Създайте програма, която записва списък с любими книги във файл."
   ]
  }
 ],
 "metadata": {},
 "nbformat": 4,
 "nbformat_minor": 5
}
