{
 "cells": [
  {
   "cell_type": "markdown",
   "id": "8a92a406",
   "metadata": {},
   "source": [
    "# Цикли\n",
    "\n",
    "Създайте програма, която отпечатва всички четни числа до 100."
   ]
  },
  {
   "cell_type": "code",
   "execution_count": null,
   "id": "03204b92",
   "metadata": {},
   "outputs": [],
   "source": [
    "for i in range(5):\n",
    "    print(i)"
   ]
  },
  {
   "cell_type": "markdown",
   "id": "c32cc9c5",
   "metadata": {},
   "source": [
    "## Задача\n",
    "Създайте програма, която отпечатва всички четни числа до 100."
   ]
  }
 ],
 "metadata": {},
 "nbformat": 4,
 "nbformat_minor": 5
}
