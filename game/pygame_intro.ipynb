{
 "cells": [
  {
   "cell_type": "markdown",
   "id": "237df2b5",
   "metadata": {},
   "source": [
    "# Въведение в PyGame\n",
    "\n",
    "Създайте PyGame прозорец с различен цвят на фона."
   ]
  },
  {
   "cell_type": "code",
   "execution_count": null,
   "id": "82b54627",
   "metadata": {},
   "outputs": [],
   "source": [
    "import pygame\n",
    "pygame.init()\n",
    "screen = pygame.display.set_mode((400, 300))\n",
    "pygame.display.set_caption('Моята игра')"
   ]
  },
  {
   "cell_type": "markdown",
   "id": "85544ae7",
   "metadata": {},
   "source": [
    "## Задача\n",
    "Създайте PyGame прозорец с различен цвят на фона."
   ]
  }
 ],
 "metadata": {},
 "nbformat": 4,
 "nbformat_minor": 5
}
