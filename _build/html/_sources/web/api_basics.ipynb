{
 "cells": [
  {
   "cell_type": "markdown",
   "id": "5362e774",
   "metadata": {},
   "source": [
    "# Основи на API\n",
    "\n",
    "Създайте API маршрут, който връща списък с потребители."
   ]
  },
  {
   "cell_type": "code",
   "execution_count": null,
   "id": "c35d8a81",
   "metadata": {},
   "outputs": [],
   "source": [
    "from flask import Flask, jsonify\n",
    "app = Flask(__name__)\n",
    "\n",
    "@app.route('/api')\n",
    "def api():\n",
    "    return jsonify({'message': 'Hello API'})\n",
    "\n",
    "if __name__ == '__main__':\n",
    "    app.run()"
   ]
  },
  {
   "cell_type": "markdown",
   "id": "b03ed932",
   "metadata": {},
   "source": [
    "## Задача\n",
    "Създайте API маршрут, който връща списък с потребители."
   ]
  }
 ],
 "metadata": {},
 "nbformat": 4,
 "nbformat_minor": 5
}
