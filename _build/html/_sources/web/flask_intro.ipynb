{
 "cells": [
  {
   "cell_type": "markdown",
   "id": "0c469f80",
   "metadata": {},
   "source": [
    "# Въведение във Flask\n",
    "\n",
    "Добавете нов маршрут, който връща текст 'Добре дошли в моето приложение!'"
   ]
  },
  {
   "cell_type": "code",
   "execution_count": null,
   "id": "3fca8b36",
   "metadata": {},
   "outputs": [],
   "source": [
    "from flask import Flask\n",
    "app = Flask(__name__)\n",
    "\n",
    "@app.route('/')\n",
    "def home():\n",
    "    return 'Здравей, свят!'\n",
    "\n",
    "if __name__ == '__main__':\n",
    "    app.run()"
   ]
  },
  {
   "cell_type": "markdown",
   "id": "3a6cc78b",
   "metadata": {},
   "source": [
    "## Задача\n",
    "Добавете нов маршрут, който връща текст 'Добре дошли в моето приложение!'"
   ]
  }
 ],
 "metadata": {},
 "nbformat": 4,
 "nbformat_minor": 5
}
