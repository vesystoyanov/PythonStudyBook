{
 "cells": [
  {
   "cell_type": "markdown",
   "id": "a764c7e2",
   "metadata": {},
   "source": [
    "# Проект 1: Калкулатор\n",
    "\n",
    "Създайте калкулатор с избор на операция: събиране, изваждане, умножение и деление."
   ]
  },
  {
   "cell_type": "code",
   "execution_count": null,
   "id": "1f6fe3c2",
   "metadata": {},
   "outputs": [],
   "source": [
    "def add(x, y):\n",
    "    return x + y\n",
    "\n",
    "print(add(2, 3))"
   ]
  },
  {
   "cell_type": "markdown",
   "id": "e0353452",
   "metadata": {},
   "source": [
    "## Задача\n",
    "Създайте калкулатор с избор на операция: събиране, изваждане, умножение и деление."
   ]
  }
 ],
 "metadata": {},
 "nbformat": 4,
 "nbformat_minor": 5
}
