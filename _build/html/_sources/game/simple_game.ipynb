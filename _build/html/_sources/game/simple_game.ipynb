{
 "cells": [
  {
   "cell_type": "markdown",
   "id": "8340c368",
   "metadata": {},
   "source": [
    "# Простичка игра\n",
    "\n",
    "Добавете движещ се обект в играта."
   ]
  },
  {
   "cell_type": "code",
   "execution_count": null,
   "id": "f288d29f",
   "metadata": {},
   "outputs": [],
   "source": [
    "import pygame\n",
    "pygame.init()\n",
    "screen = pygame.display.set_mode((400, 300))\n",
    "pygame.display.set_caption('Простичка игра')\n",
    "\n",
    "running = True\n",
    "while running:\n",
    "    for event in pygame.event.get():\n",
    "        if event.type == pygame.QUIT:\n",
    "            running = False\n",
    "pygame.quit()"
   ]
  },
  {
   "cell_type": "markdown",
   "id": "5d180eda",
   "metadata": {},
   "source": [
    "## Задача\n",
    "Добавете движещ се обект в играта."
   ]
  }
 ],
 "metadata": {},
 "nbformat": 4,
 "nbformat_minor": 5
}
