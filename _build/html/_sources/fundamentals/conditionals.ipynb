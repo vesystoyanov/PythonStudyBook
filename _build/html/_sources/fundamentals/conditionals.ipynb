{
 "cells": [
  {
   "cell_type": "markdown",
   "id": "24b44f33",
   "metadata": {},
   "source": [
    "# Условни конструкции\n",
    "\n",
    "Напишете програма, която определя дали дадено число е положително, отрицателно или нула."
   ]
  },
  {
   "cell_type": "code",
   "execution_count": null,
   "id": "17c72cce",
   "metadata": {},
   "outputs": [],
   "source": [
    "x = int(input('Въведете число: '))\n",
    "if x % 2 == 0:\n",
    "    print('Четно число')\n",
    "else:\n",
    "    print('Нечетно число')"
   ]
  },
  {
   "cell_type": "markdown",
   "id": "71bd896a",
   "metadata": {},
   "source": [
    "## Задача\n",
    "Напишете програма, която определя дали дадено число е положително, отрицателно или нула."
   ]
  }
 ],
 "metadata": {},
 "nbformat": 4,
 "nbformat_minor": 5
}
