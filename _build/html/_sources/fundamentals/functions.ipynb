{
 "cells": [
  {
   "cell_type": "markdown",
   "id": "c10cb5ab",
   "metadata": {},
   "source": [
    "# Функции\n",
    "\n",
    "Създайте функция, която намира лицето на правоъгълник по зададени страни."
   ]
  },
  {
   "cell_type": "code",
   "execution_count": null,
   "id": "f77654fc",
   "metadata": {},
   "outputs": [],
   "source": [
    "def greet(name):\n",
    "    print(f'Здравей, {name}!')"
   ]
  },
  {
   "cell_type": "markdown",
   "id": "9111f561",
   "metadata": {},
   "source": [
    "## Задача\n",
    "Създайте функция, която намира лицето на правоъгълник по зададени страни."
   ]
  }
 ],
 "metadata": {},
 "nbformat": 4,
 "nbformat_minor": 5
}
