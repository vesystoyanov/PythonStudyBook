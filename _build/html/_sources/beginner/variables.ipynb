{
 "cells": [
  {
   "cell_type": "markdown",
   "id": "6a34653f",
   "metadata": {},
   "source": [
    "# Променливи\n",
    "\n",
    "Създайте променлива с вашето име и я отпечатайте."
   ]
  },
  {
   "cell_type": "code",
   "execution_count": null,
   "id": "cb5b4234",
   "metadata": {},
   "outputs": [],
   "source": [
    "x = 5\n",
    "print(x)"
   ]
  },
  {
   "cell_type": "markdown",
   "id": "4537e6d1",
   "metadata": {},
   "source": [
    "## Задача\n",
    "Създайте променлива с вашето име и я отпечатайте."
   ]
  }
 ],
 "metadata": {},
 "nbformat": 4,
 "nbformat_minor": 5
}
