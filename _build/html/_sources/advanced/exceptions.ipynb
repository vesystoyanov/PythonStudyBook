{
 "cells": [
  {
   "cell_type": "markdown",
   "id": "913f25dc",
   "metadata": {},
   "source": [
    "# Грешки и изключения\n",
    "\n",
    "Създайте програма, която обработва ValueError при грешен вход."
   ]
  },
  {
   "cell_type": "code",
   "execution_count": null,
   "id": "0f181a6b",
   "metadata": {},
   "outputs": [],
   "source": [
    "try:\n",
    "    x = int(input('Въведете число: '))\n",
    "    print(10 / x)\n",
    "except ZeroDivisionError:\n",
    "    print('Деление на нула!')"
   ]
  },
  {
   "cell_type": "markdown",
   "id": "7c1811a8",
   "metadata": {},
   "source": [
    "## Задача\n",
    "Създайте програма, която обработва ValueError при грешен вход."
   ]
  }
 ],
 "metadata": {},
 "nbformat": 4,
 "nbformat_minor": 5
}
