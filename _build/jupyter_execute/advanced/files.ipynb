{
 "cells": [
  {
   "cell_type": "markdown",
   "id": "10482286",
   "metadata": {},
   "source": [
    "# Работа с файлове\n",
    "\n",
    "Създайте програма, която записва списък с любими книги във файл."
   ]
  },
  {
   "cell_type": "code",
   "execution_count": 1,
   "id": "51fc6e19",
   "metadata": {},
   "outputs": [],
   "source": [
    "with open('example.txt', 'w') as file:\n",
    "    file.write('Това е примерен текст.')"
   ]
  },
  {
   "cell_type": "markdown",
   "id": "15082ad5",
   "metadata": {},
   "source": [
    "## Задача\n",
    "Създайте програма, която записва списък с любими книги във файл."
   ]
  }
 ],
 "metadata": {
  "language_info": {
   "codemirror_mode": {
    "name": "ipython",
    "version": 3
   },
   "file_extension": ".py",
   "mimetype": "text/x-python",
   "name": "python",
   "nbconvert_exporter": "python",
   "pygments_lexer": "ipython3",
   "version": "3.11.5"
  }
 },
 "nbformat": 4,
 "nbformat_minor": 5
}