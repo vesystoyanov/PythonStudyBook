{
 "cells": [
  {
   "cell_type": "markdown",
   "id": "e64b9a01",
   "metadata": {},
   "source": [
    "# Обектно ориентирано програмиране\n",
    "\n",
    "Създайте клас Кола с атрибути: марка, модел и метод за представяне на информацията."
   ]
  },
  {
   "cell_type": "code",
   "execution_count": 1,
   "id": "ce03f80f",
   "metadata": {},
   "outputs": [],
   "source": [
    "class Person:\n",
    "    def __init__(self, name):\n",
    "        self.name = name\n",
    "\n",
    "    def greet(self):\n",
    "        print(f'Здравей, {self.name}!')"
   ]
  },
  {
   "cell_type": "markdown",
   "id": "2eefe5a6",
   "metadata": {},
   "source": [
    "## Задача\n",
    "Създайте клас Кола с атрибути: марка, модел и метод за представяне на информацията."
   ]
  }
 ],
 "metadata": {
  "language_info": {
   "codemirror_mode": {
    "name": "ipython",
    "version": 3
   },
   "file_extension": ".py",
   "mimetype": "text/x-python",
   "name": "python",
   "nbconvert_exporter": "python",
   "pygments_lexer": "ipython3",
   "version": "3.11.5"
  }
 },
 "nbformat": 4,
 "nbformat_minor": 5
}