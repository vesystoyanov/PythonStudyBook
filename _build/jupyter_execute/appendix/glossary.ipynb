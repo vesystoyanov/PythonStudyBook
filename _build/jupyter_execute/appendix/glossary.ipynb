{
 "cells": [
  {
   "cell_type": "markdown",
   "id": "0bf5c73a",
   "metadata": {},
   "source": [
    "# Речник на термините\n",
    "\n",
    "Допълнете речника с нови Python термини."
   ]
  },
  {
   "cell_type": "code",
   "execution_count": null,
   "id": "0d9cd07c",
   "metadata": {},
   "outputs": [],
   "source": []
  },
  {
   "cell_type": "markdown",
   "id": "31e943cf",
   "metadata": {},
   "source": [
    "## Задача\n",
    "Допълнете речника с нови Python термини."
   ]
  }
 ],
 "metadata": {
  "language_info": {
   "codemirror_mode": {
    "name": "ipython",
    "version": 3
   },
   "file_extension": ".py",
   "mimetype": "text/x-python",
   "name": "python",
   "nbconvert_exporter": "python",
   "pygments_lexer": "ipython3",
   "version": "3.11.5"
  }
 },
 "nbformat": 4,
 "nbformat_minor": 5
}