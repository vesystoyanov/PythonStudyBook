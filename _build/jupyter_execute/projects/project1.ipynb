{
 "cells": [
  {
   "cell_type": "markdown",
   "id": "a764c7e2",
   "metadata": {},
   "source": [
    "# Проект 1: Калкулатор\n",
    "\n",
    "Създайте калкулатор с избор на операция: събиране, изваждане, умножение и деление."
   ]
  },
  {
   "cell_type": "code",
   "execution_count": 1,
   "id": "1f6fe3c2",
   "metadata": {},
   "outputs": [
    {
     "name": "stdout",
     "output_type": "stream",
     "text": [
      "5\n"
     ]
    }
   ],
   "source": [
    "def add(x, y):\n",
    "    return x + y\n",
    "\n",
    "print(add(2, 3))"
   ]
  },
  {
   "cell_type": "markdown",
   "id": "e0353452",
   "metadata": {},
   "source": [
    "## Задача\n",
    "Създайте калкулатор с избор на операция: събиране, изваждане, умножение и деление."
   ]
  }
 ],
 "metadata": {
  "language_info": {
   "codemirror_mode": {
    "name": "ipython",
    "version": 3
   },
   "file_extension": ".py",
   "mimetype": "text/x-python",
   "name": "python",
   "nbconvert_exporter": "python",
   "pygments_lexer": "ipython3",
   "version": "3.11.5"
  }
 },
 "nbformat": 4,
 "nbformat_minor": 5
}