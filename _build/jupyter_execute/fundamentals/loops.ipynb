{
 "cells": [
  {
   "cell_type": "markdown",
   "id": "8a92a406",
   "metadata": {},
   "source": [
    "# Цикли\n",
    "\n",
    "Създайте програма, която отпечатва всички четни числа до 100."
   ]
  },
  {
   "cell_type": "code",
   "execution_count": 1,
   "id": "03204b92",
   "metadata": {},
   "outputs": [
    {
     "name": "stdout",
     "output_type": "stream",
     "text": [
      "0\n",
      "1\n",
      "2\n",
      "3\n",
      "4\n"
     ]
    }
   ],
   "source": [
    "for i in range(5):\n",
    "    print(i)"
   ]
  },
  {
   "cell_type": "markdown",
   "id": "c32cc9c5",
   "metadata": {},
   "source": [
    "## Задача\n",
    "Създайте програма, която отпечатва всички четни числа до 100."
   ]
  }
 ],
 "metadata": {
  "language_info": {
   "codemirror_mode": {
    "name": "ipython",
    "version": 3
   },
   "file_extension": ".py",
   "mimetype": "text/x-python",
   "name": "python",
   "nbconvert_exporter": "python",
   "pygments_lexer": "ipython3",
   "version": "3.11.5"
  }
 },
 "nbformat": 4,
 "nbformat_minor": 5
}