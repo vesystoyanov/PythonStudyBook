{
 "cells": [
  {
   "cell_type": "markdown",
   "id": "c10cb5ab",
   "metadata": {},
   "source": [
    "# Функции\n",
    "\n",
    "Създайте функция, която намира лицето на правоъгълник по зададени страни."
   ]
  },
  {
   "cell_type": "code",
   "execution_count": 1,
   "id": "f77654fc",
   "metadata": {},
   "outputs": [],
   "source": [
    "def greet(name):\n",
    "    print(f'Здравей, {name}!')"
   ]
  },
  {
   "cell_type": "markdown",
   "id": "9111f561",
   "metadata": {},
   "source": [
    "## Задача\n",
    "Създайте функция, която намира лицето на правоъгълник по зададени страни."
   ]
  }
 ],
 "metadata": {
  "language_info": {
   "codemirror_mode": {
    "name": "ipython",
    "version": 3
   },
   "file_extension": ".py",
   "mimetype": "text/x-python",
   "name": "python",
   "nbconvert_exporter": "python",
   "pygments_lexer": "ipython3",
   "version": "3.11.5"
  }
 },
 "nbformat": 4,
 "nbformat_minor": 5
}