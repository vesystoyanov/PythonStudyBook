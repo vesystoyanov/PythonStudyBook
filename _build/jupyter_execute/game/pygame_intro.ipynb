{
 "cells": [
  {
   "cell_type": "markdown",
   "id": "237df2b5",
   "metadata": {},
   "source": [
    "# Въведение в PyGame\n",
    "\n",
    "Създайте PyGame прозорец с различен цвят на фона."
   ]
  },
  {
   "cell_type": "code",
   "execution_count": 1,
   "id": "82b54627",
   "metadata": {},
   "outputs": [
    {
     "ename": "ModuleNotFoundError",
     "evalue": "No module named 'pygame'",
     "output_type": "error",
     "traceback": [
      "\u001b[31m---------------------------------------------------------------------------\u001b[39m",
      "\u001b[31mModuleNotFoundError\u001b[39m                       Traceback (most recent call last)",
      "\u001b[36mCell\u001b[39m\u001b[36m \u001b[39m\u001b[32mIn[1]\u001b[39m\u001b[32m, line 1\u001b[39m\n\u001b[32m----> \u001b[39m\u001b[32m1\u001b[39m \u001b[38;5;28;01mimport\u001b[39;00m\u001b[38;5;250m \u001b[39m\u001b[34;01mpygame\u001b[39;00m\n\u001b[32m      2\u001b[39m pygame.init()\n\u001b[32m      3\u001b[39m screen = pygame.display.set_mode((\u001b[32m400\u001b[39m, \u001b[32m300\u001b[39m))\n",
      "\u001b[31mModuleNotFoundError\u001b[39m: No module named 'pygame'"
     ]
    }
   ],
   "source": [
    "import pygame\n",
    "pygame.init()\n",
    "screen = pygame.display.set_mode((400, 300))\n",
    "pygame.display.set_caption('Моята игра')"
   ]
  },
  {
   "cell_type": "markdown",
   "id": "85544ae7",
   "metadata": {},
   "source": [
    "## Задача\n",
    "Създайте PyGame прозорец с различен цвят на фона."
   ]
  }
 ],
 "metadata": {
  "language_info": {
   "codemirror_mode": {
    "name": "ipython",
    "version": 3
   },
   "file_extension": ".py",
   "mimetype": "text/x-python",
   "name": "python",
   "nbconvert_exporter": "python",
   "pygments_lexer": "ipython3",
   "version": "3.11.5"
  }
 },
 "nbformat": 4,
 "nbformat_minor": 5
}