{
 "cells": [
  {
   "cell_type": "markdown",
   "id": "bb7f4fcf",
   "metadata": {},
   "source": [
    "# Упражнения за начинаещи\n",
    "\n",
    "Създайте програма, която събира две числа, въведени от потребителя."
   ]
  },
  {
   "cell_type": "code",
   "execution_count": null,
   "id": "c94673b9",
   "metadata": {},
   "outputs": [],
   "source": []
  },
  {
   "cell_type": "markdown",
   "id": "0993287d",
   "metadata": {},
   "source": [
    "## Задача\n",
    "Създайте програма, която събира две числа, въведени от потребителя."
   ]
  }
 ],
 "metadata": {
  "language_info": {
   "codemirror_mode": {
    "name": "ipython",
    "version": 3
   },
   "file_extension": ".py",
   "mimetype": "text/x-python",
   "name": "python",
   "nbconvert_exporter": "python",
   "pygments_lexer": "ipython3",
   "version": "3.11.5"
  }
 },
 "nbformat": 4,
 "nbformat_minor": 5
}