{
 "cells": [
  {
   "cell_type": "markdown",
   "id": "6a34653f",
   "metadata": {},
   "source": [
    "# Променливи\n",
    "\n",
    "Създайте променлива с вашето име и я отпечатайте."
   ]
  },
  {
   "cell_type": "code",
   "execution_count": 1,
   "id": "cb5b4234",
   "metadata": {},
   "outputs": [
    {
     "name": "stdout",
     "output_type": "stream",
     "text": [
      "5\n"
     ]
    }
   ],
   "source": [
    "x = 5\n",
    "print(x)"
   ]
  },
  {
   "cell_type": "markdown",
   "id": "4537e6d1",
   "metadata": {},
   "source": [
    "## Задача\n",
    "Създайте променлива с вашето име и я отпечатайте."
   ]
  }
 ],
 "metadata": {
  "language_info": {
   "codemirror_mode": {
    "name": "ipython",
    "version": 3
   },
   "file_extension": ".py",
   "mimetype": "text/x-python",
   "name": "python",
   "nbconvert_exporter": "python",
   "pygments_lexer": "ipython3",
   "version": "3.11.5"
  }
 },
 "nbformat": 4,
 "nbformat_minor": 5
}