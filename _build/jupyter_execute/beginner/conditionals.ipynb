{
 "cells": [
  {
   "cell_type": "markdown",
   "id": "e6fb3666",
   "metadata": {},
   "source": [
    "# Условни конструкции\n",
    "\n",
    "Създайте програма, която проверява дали дадено число е четно или нечетно."
   ]
  },
  {
   "cell_type": "code",
   "execution_count": 1,
   "id": "dcc61a51",
   "metadata": {},
   "outputs": [
    {
     "name": "stdout",
     "output_type": "stream",
     "text": [
      "Числото е по-голямо от 5\n"
     ]
    }
   ],
   "source": [
    "x = 10\n",
    "if x > 5:\n",
    "    print('Числото е по-голямо от 5')"
   ]
  },
  {
   "cell_type": "markdown",
   "id": "a99808a5",
   "metadata": {},
   "source": [
    "## Задача\n",
    "Създайте програма, която проверява дали дадено число е четно или нечетно."
   ]
  }
 ],
 "metadata": {
  "language_info": {
   "codemirror_mode": {
    "name": "ipython",
    "version": 3
   },
   "file_extension": ".py",
   "mimetype": "text/x-python",
   "name": "python",
   "nbconvert_exporter": "python",
   "pygments_lexer": "ipython3",
   "version": "3.11.5"
  }
 },
 "nbformat": 4,
 "nbformat_minor": 5
}