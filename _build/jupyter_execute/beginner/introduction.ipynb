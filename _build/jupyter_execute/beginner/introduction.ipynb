{
 "cells": [
  {
   "cell_type": "markdown",
   "id": "34a254e9",
   "metadata": {},
   "source": [
    "# Въведение\n",
    "\n",
    "Запознайте се с основите на Python."
   ]
  },
  {
   "cell_type": "code",
   "execution_count": null,
   "id": "7e8ff951",
   "metadata": {},
   "outputs": [],
   "source": []
  },
  {
   "cell_type": "markdown",
   "id": "0f10f74a",
   "metadata": {},
   "source": [
    "## Задача\n",
    "Запознайте се с основите на Python."
   ]
  }
 ],
 "metadata": {
  "language_info": {
   "codemirror_mode": {
    "name": "ipython",
    "version": 3
   },
   "file_extension": ".py",
   "mimetype": "text/x-python",
   "name": "python",
   "nbconvert_exporter": "python",
   "pygments_lexer": "ipython3",
   "version": "3.11.5"
  }
 },
 "nbformat": 4,
 "nbformat_minor": 5
}