{
 "cells": [
  {
   "cell_type": "markdown",
   "id": "34a254e9",
   "metadata": {},
   "source": [
    "# Въведение\n",
    "\n",
    "Запознайте се с основите на Python."
   ]
  },
  {
   "cell_type": "code",
   "execution_count": null,
   "id": "7e8ff951",
   "metadata": {},
   "outputs": [],
   "source": []
  },
  {
   "cell_type": "markdown",
   "id": "0f10f74a",
   "metadata": {},
   "source": [
    "## Задача\n",
    "Запознайте се с основите на Python."
   ]
  }
 ],
 "metadata": {},
 "nbformat": 4,
 "nbformat_minor": 5
}
