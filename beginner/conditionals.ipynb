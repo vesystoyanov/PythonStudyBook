{
 "cells": [
  {
   "cell_type": "markdown",
   "id": "e6fb3666",
   "metadata": {},
   "source": [
    "# Условни конструкции\n",
    "\n",
    "Създайте програма, която проверява дали дадено число е четно или нечетно."
   ]
  },
  {
   "cell_type": "code",
   "execution_count": null,
   "id": "dcc61a51",
   "metadata": {},
   "outputs": [],
   "source": [
    "x = 10\n",
    "if x > 5:\n",
    "    print('Числото е по-голямо от 5')"
   ]
  },
  {
   "cell_type": "markdown",
   "id": "a99808a5",
   "metadata": {},
   "source": [
    "## Задача\n",
    "Създайте програма, която проверява дали дадено число е четно или нечетно."
   ]
  }
 ],
 "metadata": {},
 "nbformat": 4,
 "nbformat_minor": 5
}
