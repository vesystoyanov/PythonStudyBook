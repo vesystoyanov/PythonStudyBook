{
 "cells": [
  {
   "cell_type": "markdown",
   "id": "bb7f4fcf",
   "metadata": {},
   "source": [
    "# Упражнения за начинаещи\n",
    "\n",
    "Създайте програма, която събира две числа, въведени от потребителя."
   ]
  },
  {
   "cell_type": "code",
   "execution_count": null,
   "id": "c94673b9",
   "metadata": {},
   "outputs": [],
   "source": []
  },
  {
   "cell_type": "markdown",
   "id": "0993287d",
   "metadata": {},
   "source": [
    "## Задача\n",
    "Създайте програма, която събира две числа, въведени от потребителя."
   ]
  }
 ],
 "metadata": {},
 "nbformat": 4,
 "nbformat_minor": 5
}
