{
 "cells": [
  {
   "cell_type": "markdown",
   "id": "0bf5c73a",
   "metadata": {},
   "source": [
    "# Речник на термините\n",
    "\n",
    "Допълнете речника с нови Python термини."
   ]
  },
  {
   "cell_type": "code",
   "execution_count": null,
   "id": "0d9cd07c",
   "metadata": {},
   "outputs": [],
   "source": []
  },
  {
   "cell_type": "markdown",
   "id": "31e943cf",
   "metadata": {},
   "source": [
    "## Задача\n",
    "Допълнете речника с нови Python термини."
   ]
  }
 ],
 "metadata": {},
 "nbformat": 4,
 "nbformat_minor": 5
}
